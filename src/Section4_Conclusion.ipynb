{
 "cells": [
  {
   "cell_type": "markdown",
   "metadata": {},
   "source": [
    "## Conclusion"
   ]
  },
  {
   "cell_type": "markdown",
   "metadata": {},
   "source": [
    "In section 2b, we have analysed energy consumption patterns for each charging station in order to predict energy consumption for each station. This information can have great business value for energy companies, because it can help them maintain grid stability. We started our analyses by observing how the consumption changes by hour of the day, day of the week and month of the year. We have visualized trends, proved stationarity and built two models for predicting hourly consumption, a naive baseline model and a more complex XGBoost model. The latter has achieved achieved significantly better results on the test set in both R^2 and MAE metrics compared to the baseline model, despite having to predict all 24 hours in advance. Two ways the model could still be improved would be to include weather data, which could have an impact on energy consumption, and reducing the batch size for forecasting, meaning to forecasting only 6 or 12 hours in advance instead of 24."
   ]
  }
 ],
 "metadata": {
  "kernelspec": {
   "display_name": "base",
   "language": "python",
   "name": "python3"
  },
  "language_info": {
   "name": "python",
   "version": "3.11.5"
  }
 },
 "nbformat": 4,
 "nbformat_minor": 2
}
